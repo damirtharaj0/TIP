{
 "cells": [
  {
   "cell_type": "code",
   "execution_count": null,
   "id": "89f7b0ad",
   "metadata": {},
   "outputs": [
    {
     "name": "stdout",
     "output_type": "stream",
     "text": [
      "5\n",
      "2\n",
      "0\n"
     ]
    }
   ],
   "source": [
    "\"\"\"\n",
    "\n",
    "[1,3,2,2,5,2,3,7]\n",
    "maxCount = 5\n",
    "seen = set()\n",
    "loop from 0 to len(art_pieces)\n",
    "\tif in seen()\n",
    "\t\tskip\n",
    "\tcount\n",
    "\tloop from 0 to len(art_pieces)\n",
    "\t\tcheck for the art_pieces[i] and art_pieces[i]+1:\n",
    "\t\t\tupdate count\n",
    "\tadd to seen\n",
    "\tupdate maxCount\n",
    "\n",
    "\"\"\"\n",
    "\n",
    "def find_balanced_subsequence(art_pieces):\n",
    "\tmax_count = 0\n",
    "\tseen = set()\n",
    "\n",
    "\tfor piece in art_pieces:\n",
    "\t\tif piece in seen:\n",
    "\t\t\tcontinue\n",
    "\n",
    "\t\tcount = 0\n",
    "\t\tcount_set = set()\n",
    "\t\tfor piece_2 in art_pieces:\n",
    "\t\t\tif piece_2 == piece or piece_2 == piece + 1:\n",
    "\t\t\t\tcount_set.add(piece_2)\n",
    "\t\t\t\tcount += 1\n",
    "\t\tseen.add(piece)\n",
    "\t\tif len(count_set) != 1: max_count = max(max_count, count)\n",
    "\t\n",
    "\treturn max_count\n",
    "\n",
    "art_pieces1 = [1,3,2,2,5,2,3,7]\n",
    "art_pieces2 = [1,2,3,4]\n",
    "art_pieces3 = [1,1,1,1]\n",
    "\n",
    "print(find_balanced_subsequence(art_pieces1))\n",
    "print(find_balanced_subsequence(art_pieces2))\n",
    "print(find_balanced_subsequence(art_pieces3))\n"
   ]
  },
  {
   "cell_type": "code",
   "execution_count": 7,
   "id": "71dda793",
   "metadata": {},
   "outputs": [
    {
     "name": "stdout",
     "output_type": "stream",
     "text": [
      "[[\"O'Keefe\", 'Kahlo', 'Picasso', 'Warhol'], [\"O'Keefe\", 'Kahlo'], [\"O'Keefe\"]]\n",
      "[['Kusama', 'Monet', 'Ofili', 'Banksy']]\n"
     ]
    }
   ],
   "source": [
    "\n",
    "\n",
    "[\n",
    "    [\"okeef\", \"khalo\", \"picasso\", \"warhol\"],\n",
    "    [\"okeef\", \"khalo\"],\n",
    "    [\"okeef\"]\n",
    "]\n",
    "\n",
    "\"\"\"\n",
    "\n",
    "\"\"\"\n",
    "\n",
    "\n",
    "def organize_exhibition(collection):\n",
    "    freq = {}\n",
    "    for piece in collection:\n",
    "        freq[piece] = freq.get(piece, 0) + 1\n",
    "\n",
    "    res = []\n",
    "    n = len(freq)\n",
    "    while n > 0:\n",
    "        row = []\n",
    "        for piece in freq:\n",
    "            if freq[piece] != 0:\n",
    "                row.append(piece)\n",
    "                freq[piece] -= 1\n",
    "            else:\n",
    "                n -= 1\n",
    "        if n != 0:\n",
    "            res.append(row)\n",
    "    return res\n",
    "\n",
    "\n",
    "collection1 = [\"O'Keefe\", \"Kahlo\", \"Picasso\", \"O'Keefe\", \"Warhol\",\n",
    "               \"Kahlo\", \"O'Keefe\"]\n",
    "collection2 = [\"Kusama\", \"Monet\", \"Ofili\", \"Banksy\"]\n",
    "\n",
    "print(organize_exhibition(collection1))\n",
    "print(organize_exhibition(collection2))"
   ]
  },
  {
   "cell_type": "code",
   "execution_count": null,
   "id": "d59dcbb6",
   "metadata": {},
   "outputs": [],
   "source": []
  }
 ],
 "metadata": {
  "kernelspec": {
   "display_name": "Python 3",
   "language": "python",
   "name": "python3"
  },
  "language_info": {
   "codemirror_mode": {
    "name": "ipython",
    "version": 3
   },
   "file_extension": ".py",
   "mimetype": "text/x-python",
   "name": "python",
   "nbconvert_exporter": "python",
   "pygments_lexer": "ipython3",
   "version": "3.12.11"
  }
 },
 "nbformat": 4,
 "nbformat_minor": 5
}
