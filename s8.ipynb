{
 "cells": [
  {
   "cell_type": "code",
   "execution_count": 2,
   "id": "f097a6fd",
   "metadata": {},
   "outputs": [
    {
     "name": "stdout",
     "output_type": "stream",
     "text": [
      "['EcoWear', 'GreenThreads']\n",
      "['Earthly']\n",
      "['GreenLife']\n"
     ]
    }
   ],
   "source": [
    "\"\"\"\n",
    "initialize a list\n",
    "every brands['name'] that matches the filter is added to list\n",
    "\n",
    "filter: get brands['criteria'] and traverse until we see a match and then add the name to list\n",
    "if we reach the end, go to next element without adding\n",
    "\n",
    "\"\"\"\n",
    "\n",
    "def filter_sustainable_brands(brands, criterion):\n",
    "    res = []\n",
    "    for brand in brands:\n",
    "        if criterion in brand['criteria']:\n",
    "            res.append(brand['name'])\n",
    "\n",
    "    return res\n",
    "\n",
    "brands = [\n",
    "    {\"name\": \"EcoWear\", \"criteria\": [\"eco-friendly\", \"ethical labor\"]},\n",
    "    {\"name\": \"FastFashion\", \"criteria\": [\"cheap materials\", \"fast production\"]},\n",
    "    {\"name\": \"GreenThreads\", \"criteria\": [\"eco-friendly\", \"carbon-neutral\"]},\n",
    "    {\"name\": \"TrendyStyle\", \"criteria\": [\"trendy designs\"]}\n",
    "]\n",
    "\n",
    "brands_2 = [\n",
    "    {\"name\": \"Earthly\", \"criteria\": [\"ethical labor\", \"fair wages\"]},\n",
    "    {\"name\": \"FastStyle\", \"criteria\": [\"mass production\"]},\n",
    "    {\"name\": \"NatureWear\", \"criteria\": [\"eco-friendly\"]},\n",
    "    {\"name\": \"GreenFit\", \"criteria\": [\"recycled materials\", \"eco-friendly\"]}\n",
    "]\n",
    "\n",
    "brands_3 = [\n",
    "    {\"name\": \"OrganicThreads\", \"criteria\": [\"organic cotton\", \"fair trade\"]},\n",
    "    {\"name\": \"GreenLife\", \"criteria\": [\"recycled materials\", \"carbon-neutral\"]},\n",
    "    {\"name\": \"FastCloth\", \"criteria\": [\"cheap production\"]}\n",
    "]\n",
    "\n",
    "print(filter_sustainable_brands(brands, \"eco-friendly\"))\n",
    "print(filter_sustainable_brands(brands_2, \"ethical labor\"))\n",
    "print(filter_sustainable_brands(brands_3, \"carbon-neutral\"))"
   ]
  },
  {
   "cell_type": "code",
   "execution_count": null,
   "id": "938afde8",
   "metadata": {},
   "outputs": [],
   "source": [
    "\"\"\"\n",
    "Find the maximum area of the corridor\n",
    "\n",
    "\n",
    "\n",
    "\"\"\""
   ]
  }
 ],
 "metadata": {
  "kernelspec": {
   "display_name": "Python 3",
   "language": "python",
   "name": "python3"
  },
  "language_info": {
   "codemirror_mode": {
    "name": "ipython",
    "version": 3
   },
   "file_extension": ".py",
   "mimetype": "text/x-python",
   "name": "python",
   "nbconvert_exporter": "python",
   "pygments_lexer": "ipython3",
   "version": "3.12.11"
  }
 },
 "nbformat": 4,
 "nbformat_minor": 5
}
