{
 "cells": [
  {
   "cell_type": "code",
   "execution_count": 4,
   "id": "6b0ea0eb",
   "metadata": {},
   "outputs": [
    {
     "name": "stdout",
     "output_type": "stream",
     "text": [
      "[]\n",
      "['acoustic guitar']\n",
      "['acoustic guitar', 'cacao tree']\n",
      "['acoustic guitar', 'cacao tree']\n"
     ]
    }
   ],
   "source": [
    "class Villager:\n",
    "    def __init__(self, name, species, catchphrase):\n",
    "        self.name = name\n",
    "        self.species = species\n",
    "        self.catchphrase = catchphrase\n",
    "        self.furniture = []\n",
    "\n",
    "    # U: check if the item is valid given the strings to choose from.\n",
    "\n",
    "    # P: initilaize a set with the valid values. Check if the input string is in the set, if not, don't add it\n",
    "    def add_item(self, item_name):\n",
    "        valid_values = set([\"acoustic guitar\", \"ironwood kitchenette\",\n",
    "                           \"rattan armchair\", \"kotatsu\", \"cacao tree\"])\n",
    "        if item_name not in valid_values:\n",
    "            return\n",
    "\n",
    "        self.furniture.append(item_name)\n",
    "\n",
    "\n",
    "alice = Villager(\"Alice\", \"Koala\", \"guvnor\")\n",
    "print(alice.furniture)\n",
    "\n",
    "alice.add_item(\"acoustic guitar\")\n",
    "print(alice.furniture)\n",
    "\n",
    "alice.add_item(\"cacao tree\")\n",
    "print(alice.furniture)\n",
    "\n",
    "alice.add_item(\"nintendo switch\")\n",
    "print(alice.furniture)"
   ]
  },
  {
   "cell_type": "code",
   "execution_count": 8,
   "id": "a0b4ba7d",
   "metadata": {},
   "outputs": [
    {
     "name": "stdout",
     "output_type": "stream",
     "text": [
      "Carp -> Dace -> Cherry Salmon\n",
      "I caught a Carp\n",
      "Dace -> Cherry Salmon\n",
      "Aw! Better luck next time!\n",
      "None\n"
     ]
    }
   ],
   "source": [
    "class Node:\n",
    "    def __init__(self, fish_name, next=None):\n",
    "        self.fish_name = fish_name\n",
    "        self.next = next\n",
    "\n",
    "# For testing\n",
    "def print_linked_list(head):\n",
    "    current = head\n",
    "    while current:\n",
    "        print(current.fish_name, end=\" -> \" if current.next else \"\\n\")\n",
    "        current = current.next\n",
    "\n",
    "# Understand: print the head and remove the head from the list\n",
    "\n",
    "# Plan: if the head isn't empty, print the content of the head node. increment the head pointer. and return it.\n",
    "def catch_fish(head):\n",
    "    if not head:\n",
    "        print(\"Aw! Better luck next time!\")\n",
    "        return None\n",
    "  \n",
    "    fish = head.fish_name\n",
    "    head = head.next\n",
    "    print(f\"I caught a {fish}\")\n",
    "    return head\n",
    "\n",
    "fish_list = Node(\"Carp\", Node(\"Dace\", Node(\"Cherry Salmon\")))\n",
    "empty_list = None\n",
    "\n",
    "print_linked_list(fish_list)\n",
    "print_linked_list(catch_fish(fish_list))\n",
    "print(catch_fish(empty_list))"
   ]
  }
 ],
 "metadata": {
  "kernelspec": {
   "display_name": "Python 3",
   "language": "python",
   "name": "python3"
  },
  "language_info": {
   "codemirror_mode": {
    "name": "ipython",
    "version": 3
   },
   "file_extension": ".py",
   "mimetype": "text/x-python",
   "name": "python",
   "nbconvert_exporter": "python",
   "pygments_lexer": "ipython3",
   "version": "3.12.11"
  }
 },
 "nbformat": 4,
 "nbformat_minor": 5
}
