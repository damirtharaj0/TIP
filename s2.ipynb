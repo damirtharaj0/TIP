{
 "cells": [
  {
   "cell_type": "markdown",
   "id": "105658a2",
   "metadata": {},
   "source": [
    "Problem 1: String Array Equivalency\n",
    "Given two string arrays word1 and word2, return True if the two arrays represent the same string, and False otherwise.\n",
    "\n",
    "A string is represented by an array if the array elements concatenated in order forms the string.\n",
    "\n",
    "def are_equivalent(word1, word2):\n",
    "    pass\n",
    "Example Usage\n",
    "\n",
    "word1 = [\"bat\", \"man\"]\n",
    "word2 = [\"b\", \"atman\"]\n",
    "are_equivalent(word1, word2)\n",
    "\n",
    "word1 = [\"alfred\", \"pennyworth\"]\n",
    "word2 = [\"alfredpenny\", \"word\"]\n",
    "are_equivalent(word1, word2)\n",
    "\n",
    "word1  = [\"cat\", \"wom\", \"an\"]\n",
    "word2 = [\"catwoman\"]\n",
    "are_equivalent(word1, word2)\n",
    "Example Output:\n",
    "\n",
    "True\n",
    "False\n",
    "True"
   ]
  },
  {
   "cell_type": "markdown",
   "id": "7512f7ed",
   "metadata": {},
   "source": [
    "# Understand\n",
    "Flip the matrix. The rows become the colums and the columns become the rows.\n",
    "\n",
    "# Plan\n",
    "Prepopulate a result matrix with the new dimentions.\n",
    "iterate through the old matrix using nested loops.\n",
    "For each iteration, populate the converse index in the results array.\n",
    "\n",
    "# Implement"
   ]
  },
  {
   "cell_type": "code",
   "execution_count": 3,
   "id": "c2bf6f17",
   "metadata": {},
   "outputs": [
    {
     "name": "stdout",
     "output_type": "stream",
     "text": [
      "[[1, 4, 7], [2, 5, 8], [3, 6, 9]]\n"
     ]
    }
   ],
   "source": [
    "def transpose(matrix):\n",
    "    res = [([0] * len(matrix)) for _ in range(len(matrix[0]))]\n",
    "    \n",
    "    for i in range(len(matrix[0])):\n",
    "        for j in range(len(matrix)):\n",
    "            res[j][i] = matrix[i][j]\n",
    "\n",
    "    return res\n",
    "\n",
    "  \n",
    "matrix = [\n",
    "    [1, 2, 3],\n",
    "    [4, 5, 6],\n",
    "    [7, 8, 9]\n",
    "]\n",
    "print(transpose(matrix))"
   ]
  },
  {
   "cell_type": "markdown",
   "id": "702dd3c6",
   "metadata": {},
   "source": [
    "Problem 2: Two-Pointer Reverse List\n",
    "Write a function reverse_list() that takes in a list lst and returns elements of the list in reverse order. The list should be reversed in-place without using list slicing (e.g. lst[::-1]).\n",
    "\n",
    "Instead, use the two-pointer approach, which is a common technique in which we initialize two variables (also called a pointer in this context) to track different indices or places in a list or string, then moves the pointers to point at new indices based on certain conditions. In the most common variation of the two-pointer approach, we initialize one variable to point at the beginning of a list and a second variable/pointer to point at the end of list. We then shift the pointers to move inwards through the list towards each other, until our problem is solved or the pointers reach the opposite ends of the list.\n",
    "\n",
    "def reverse_list(lst):\n",
    "    pass\n",
    "Example Usage\n",
    "\n",
    "lst = [\"pooh\", \"christopher robin\", \"piglet\", \"roo\", \"eeyore\"]\n",
    "reverse_list(lst)\n",
    "Example Output:\n",
    "\n",
    "[\"eeyore\", \"roo\", \"piglet\", \"christopher robin\", \"pooh\"]\n"
   ]
  },
  {
   "cell_type": "markdown",
   "id": "a04c2755",
   "metadata": {},
   "source": [
    "# Understand\n",
    "The function takes in a list and reverses the elements in place.\n",
    "\n",
    "# Plan\n",
    "Initalize a pointer at the start of the list and a pointer at the end.\n",
    "Swap the elements and increment the left pointer and decrement the right pointer.\n",
    "Keep doing this until the pointers are the same number.\n",
    "\n",
    "# Implement"
   ]
  },
  {
   "cell_type": "code",
   "execution_count": 4,
   "id": "a6e69a77",
   "metadata": {},
   "outputs": [
    {
     "name": "stdout",
     "output_type": "stream",
     "text": [
      "['eeyore', 'roo', 'piglet', 'christopher robin', 'pooh']\n"
     ]
    }
   ],
   "source": [
    "def reverse_list(lst):\n",
    "    l, r = 0, len(lst) - 1\n",
    "\n",
    "    while l < r:\n",
    "        lst[l], lst[r] = lst[r], lst[l]\n",
    "        l += 1\n",
    "        r -= 1\n",
    "\n",
    "lst = [\"pooh\", \"christopher robin\", \"piglet\", \"roo\", \"eeyore\"]\n",
    "reverse_list(lst)\n",
    "print(lst)"
   ]
  },
  {
   "cell_type": "markdown",
   "id": "c2b73c45",
   "metadata": {},
   "source": [
    "Problem 3: Remove Duplicates\n",
    "Write a function remove_dupes() that accepts a sorted array items, and removes the duplicates in-place such that each element appears only once. Return the length of the modified array. You may not create another array; your implementation must modify the original input array items.\n",
    "\n",
    "def remove_dupes(items):\n",
    "    pass\n",
    "Example Usage\n",
    "\n",
    "items = [\"extract of malt\", \"haycorns\", \"honey\", \"thistle\", \"thistle\"]\n",
    "remove_dupes(items)\n",
    "\n",
    "items = [\"extract of malt\", \"haycorns\", \"honey\", \"thistle\"]\n",
    "remove_dupes(items)\n",
    "Example Output:\n",
    "\n",
    "4\n",
    "4"
   ]
  },
  {
   "cell_type": "markdown",
   "id": "b0745993",
   "metadata": {},
   "source": [
    "# Understand\n",
    "We are given a sorted list.\n",
    "We want to remove the duplicates in place.\n",
    "\n",
    "# Plan\n",
    "Instantiate two pointers, the left for the part of the array with no duplicates and the right that iterates through the array.\n",
    "left will be 0 and right will be 1.\n",
    "If the right is the same as the left, increment right.\n",
    "if it isnt, increment left by one and store the element in left.\n",
    "\n",
    "# Implement"
   ]
  },
  {
   "cell_type": "code",
   "execution_count": 8,
   "id": "d8283aad",
   "metadata": {},
   "outputs": [
    {
     "name": "stdout",
     "output_type": "stream",
     "text": [
      "['extract of malt', 'haycorns', 'honey', 'thistle']\n",
      "['extract of malt', 'haycorns', 'honey', 'thistle']\n"
     ]
    }
   ],
   "source": [
    "def remove_dupes(items):\n",
    "    l = 0\n",
    "    for r in range(1, len(items)):\n",
    "        if items[l] != items[r]:\n",
    "            l += 1\n",
    "            items[l] = items[r]\n",
    "    \n",
    "    return l + 1\n",
    "\n",
    "items = [\"extract of malt\", \"haycorns\", \"honey\", \"thistle\", \"thistle\"]\n",
    "length = remove_dupes(items)\n",
    "print(items[:length])\n",
    "\n",
    "items = [\"extract of malt\", \"haycorns\", \"honey\", \"thistle\"]\n",
    "length = remove_dupes(items)\n",
    "print(items[:length])"
   ]
  },
  {
   "cell_type": "markdown",
   "id": "60478e9a",
   "metadata": {},
   "source": [
    "Problem 4: Sort Array by Parity\n",
    "Given an integer array nums, write a function sort_by_parity() that moves all the even integers to the beginning of the array, followed by all the odd integers.\n",
    "\n",
    "Return any array that satisfies this condition.\n",
    "\n",
    "def sort_by_parity(nums):\n",
    "    pass\n",
    "Example Usage\n",
    "\n",
    "nums = [3, 1, 2, 4]\n",
    "sort_by_parity(nums)\n",
    "\n",
    "nums = [0]\n",
    "sort_by_parity(nums)\n",
    "Example Output:\n",
    "\n",
    "[2, 4, 3, 1]\n",
    "[0]"
   ]
  },
  {
   "cell_type": "markdown",
   "id": "9646bac9",
   "metadata": {},
   "source": [
    "# Understand\n",
    "Move the even numbers to the front and the odd numbers to the end.\n",
    "\n",
    "# Plan\n",
    "Keep two pointers left for even and right for odd.\n",
    "Iterate through the array and swap with the relevant pointer.\n",
    "If swapped with the left, increment the index pointer.\n",
    "If swapped with the right, don't increment the index pointer.\n",
    "\n",
    "# Implement"
   ]
  },
  {
   "cell_type": "code",
   "execution_count": 17,
   "id": "20e8375d",
   "metadata": {},
   "outputs": [
    {
     "name": "stdout",
     "output_type": "stream",
     "text": [
      "[4, 2, 1, 3]\n",
      "[0]\n"
     ]
    }
   ],
   "source": [
    "def sort_by_parity(nums):\n",
    "    r = len(nums) - 1\n",
    "    i = 0\n",
    "    while i <= r:\n",
    "        if nums[i] % 2 != 0:\n",
    "            nums[i], nums[r] = nums[r], nums[i]\n",
    "            r -= 1\n",
    "        else:\n",
    "          i += 1\n",
    "\n",
    "nums = [3, 1, 2, 4]\n",
    "sort_by_parity(nums)\n",
    "print(nums)\n",
    "\n",
    "nums = [0]\n",
    "sort_by_parity(nums)\n",
    "print(nums)"
   ]
  },
  {
   "cell_type": "code",
   "execution_count": null,
   "id": "026cb7c0",
   "metadata": {},
   "outputs": [],
   "source": []
  }
 ],
 "metadata": {
  "kernelspec": {
   "display_name": "Python 3",
   "language": "python",
   "name": "python3"
  },
  "language_info": {
   "codemirror_mode": {
    "name": "ipython",
    "version": 3
   },
   "file_extension": ".py",
   "mimetype": "text/x-python",
   "name": "python",
   "nbconvert_exporter": "python",
   "pygments_lexer": "ipython3",
   "version": "3.12.11"
  }
 },
 "nbformat": 4,
 "nbformat_minor": 5
}
