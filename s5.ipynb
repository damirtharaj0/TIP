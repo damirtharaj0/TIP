{
 "cells": [
  {
   "cell_type": "code",
   "execution_count": null,
   "id": "39114320",
   "metadata": {},
   "outputs": [
    {
     "name": "stdout",
     "output_type": "stream",
     "text": [
      "123549876\n",
      "4321\n",
      "1325476\n"
     ]
    }
   ],
   "source": [
    "# IIIDDDIID\n",
    "# 123654789\n",
    "# counter = 8\n",
    "# stack = [D]\n",
    "# output = 123654789\n",
    "\n",
    "# DDD\n",
    "# counter = 4\n",
    "# stack = [D, D, D]\n",
    "# 4, 3, 2, 1\n",
    "\n",
    "\"\"\"\n",
    "IIIDIDDD\n",
    "counter=9\n",
    "\n",
    "c=7\n",
    "[]\n",
    "123549876\n",
    "\n",
    "\n",
    "\"\"\"\n",
    "\n",
    "# Plan\n",
    "\"\"\"\n",
    "keep track of a counter variable, stack, and ouput\n",
    "loop through the input \n",
    "if D, add to stack\n",
    "if I, keep popping stack until empty and update the output\n",
    "\"\"\"\n",
    "\n",
    "\n",
    "def arrange_guest_arrival_order(arrival_pattern):\n",
    "    counter = 1\n",
    "    stack = []\n",
    "    output = ''\n",
    "    for guest in arrival_pattern:\n",
    "        if guest == 'D':\n",
    "            stack.append('D')\n",
    "        else:\n",
    "            d_count = counter\n",
    "            while stack:\n",
    "                stack.pop()\n",
    "                output += str(d_count)\n",
    "                d_count -= 1\n",
    "            output += str(d_count)\n",
    "        counter += 1\n",
    "\n",
    "    d_count = counter\n",
    "    while stack:\n",
    "        stack.pop()\n",
    "        output += str(d_count)\n",
    "        d_count -= 1\n",
    "    output += str(d_count)\n",
    "    return output\n",
    "\n",
    "\n",
    "print(arrange_guest_arrival_order(\"IIIDIDDD\"))\n",
    "print(arrange_guest_arrival_order(\"DDD\"))\n",
    "print(arrange_guest_arrival_order('IDIDID'))"
   ]
  },
  {
   "cell_type": "code",
   "execution_count": null,
   "id": "b81b3d7e",
   "metadata": {},
   "outputs": [
    {
     "name": "stdout",
     "output_type": "stream",
     "text": [
      "[2, 13, 3, 11, 5, 17, 7]\n",
      "[1, 1000]\n",
      "[0, 2, 1, 3]\n"
     ]
    }
   ],
   "source": [
    "\"\"\" \n",
    "([17,13,11,2,3,5,7]))\n",
    "\n",
    "2, 3, 5, 7, 11, 13, 17\n",
    "\n",
    "\"\"\"\n",
    "\n",
    "\"\"\"\n",
    "# 1. Import the deque module\n",
    "from collections import deque \n",
    "\n",
    "# 2. Initialize a new deque object (a new queue)\n",
    "queue = deque()\n",
    "\n",
    "#3. Add a new element, 1, to the end (right side) of the queue\n",
    "queue.append(1)\n",
    "\n",
    "#4. Remove an element from the beginning (left side) of the queue\n",
    "removed_elt = queue.popleft()\n",
    "print(removed_elt) # Prints 1\n",
    "\n",
    "\"\"\"\n",
    "\n",
    "\n",
    "\"\"\"\n",
    "sort list\n",
    "init a queue\n",
    "loop through list\n",
    "add eleemnt to queue\n",
    "dequeue and enqueue element\n",
    "\"\"\"\n",
    "\n",
    "\n",
    "from collections import deque\n",
    "def reveal_attendee_list_in_order(attendees):\n",
    "    array = sorted(attendees)\n",
    "    queue = deque()\n",
    "\n",
    "    while array:\n",
    "        num = array.pop()\n",
    "        queue.appendleft(num)\n",
    "        queue.appendleft(queue.pop())\n",
    "\n",
    "    queue.append(queue.popleft())\n",
    "\n",
    "    return list(queue)\n",
    "\n",
    "\n",
    "print(reveal_attendee_list_in_order([17, 13, 11, 2, 3, 5, 7]))\n",
    "print(reveal_attendee_list_in_order([1, 1000]))\n",
    "print(reveal_attendee_list_in_order([0, 1, 2, 3]))"
   ]
  },
  {
   "cell_type": "code",
   "execution_count": 3,
   "id": "58765626",
   "metadata": {},
   "outputs": [
    {
     "name": "stdout",
     "output_type": "stream",
     "text": [
      "[2, 13, 3, 11, 5, 17, 7]\n",
      "[1, 1000]\n"
     ]
    }
   ],
   "source": [
    "\"\"\"\n",
    "initialize a queue\n",
    "sort the array\n",
    "\n",
    "while stack:\n",
    "  popright from the stack and push left to the queue\n",
    "  popright and pushleft to queue\n",
    "\n",
    "\"\"\"\n",
    "from collections import deque\n",
    "\n",
    "\n",
    "def reveal_attendee_list_in_order(attendees):\n",
    "  attendees.sort()\n",
    "  q = deque()\n",
    "\n",
    "  while attendees:\n",
    "    q.appendleft(attendees.pop())\n",
    "    q.appendleft(q.pop())\n",
    "  \n",
    "  q.append(q.popleft())\n",
    "\n",
    "  return list(q)\n",
    "\n",
    "print(reveal_attendee_list_in_order([17,13,11,2,3,5,7])) \n",
    "print(reveal_attendee_list_in_order([1,1000]))  "
   ]
  }
 ],
 "metadata": {
  "kernelspec": {
   "display_name": "Python 3",
   "language": "python",
   "name": "python3"
  },
  "language_info": {
   "codemirror_mode": {
    "name": "ipython",
    "version": 3
   },
   "file_extension": ".py",
   "mimetype": "text/x-python",
   "name": "python",
   "nbconvert_exporter": "python",
   "pygments_lexer": "ipython3",
   "version": "3.12.11"
  }
 },
 "nbformat": 4,
 "nbformat_minor": 5
}
