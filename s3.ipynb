{
 "cells": [
  {
   "cell_type": "markdown",
   "id": "1809d908",
   "metadata": {},
   "source": []
  }
 ],
 "metadata": {
  "language_info": {
   "name": "python"
  }
 },
 "nbformat": 4,
 "nbformat_minor": 5
}
